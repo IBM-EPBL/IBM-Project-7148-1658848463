{
 "cells": [
  {
   "cell_type": "code",
   "execution_count": null,
   "id": "e3d2dead",
   "metadata": {},
   "outputs": [],
   "source": [
    "#Importing the libraries\n",
    "import pandas as pd\n",
    "import numpy as np\n",
    "import seaborn as sns \n",
    "import matplotlib.pyplot as plt\n",
    "from sklearn import preprocessing\n",
    "from sklearn import model_selection\n",
    "from sklearn import metrics \n",
    "from sklearn import linear_model\n",
    "from sklearn import ensemble\n",
    "from sklearn import tree\n",
    "from sklearn import svm\n",
    "import xgboost"
   ]
  },
  {
   "cell_type": "code",
   "execution_count": null,
   "id": "f7c47986",
   "metadata": {},
   "outputs": [],
   "source": [
    "#Importing the dataset\n",
    "import os, types\n",
    "import pandas as pd\n",
    "from botocore.client import Config\n",
    "import ibm_boto3\n",
    "\n",
    "def __iter__(self): return 0\n",
    "\n",
    "# @hidden_cell\n",
    "# The following code accesses a file in your IBM Cloud Object Storage. It includes your credentials.\n",
    "# You might want to remove those credentials before you share the notebook.\n",
    "cos_client = ibm_boto3.client(service_name='s3',\n",
    "    ibm_api_key_id='vYxSqpgXYTE_5CsKrkuRv_pcMjpYBNBmaEy4lu9rgw03',\n",
    "    ibm_auth_endpoint=\"https://iam.cloud.ibm.com/oidc/token\",\n",
    "    config=Config(signature_version='oauth'),\n",
    "    endpoint_url='https://s3.private.us.cloud-object-storage.appdomain.cloud')\n",
    "\n",
    "bucket = 'exploratoryanalysisofrainfalldata-donotdelete-pr-nsxjcdoqodn5wl'\n",
    "object_key = 'weatherAUS.csv'\n",
    "\n",
    "body = cos_client.get_object(Bucket=bucket,Key=object_key)['Body']\n",
    "# add missing __iter__ method, so pandas accepts body as file-like object\n",
    "if not hasattr(body, \"__iter__\"): body.__iter__ = types.MethodType( __iter__, body )\n",
    "\n",
    "data = pd.read_csv(body)\n",
    "data.head()"
   ]
  },
  {
   "cell_type": "code",
   "execution_count": null,
   "id": "61a01c3f",
   "metadata": {},
   "outputs": [],
   "source": [
    "#Analyze the data\n",
    "data.head()"
   ]
  },
  {
   "cell_type": "code",
   "execution_count": null,
   "id": "3892c6e4",
   "metadata": {},
   "outputs": [],
   "source": [
    "data.describe()"
   ]
  },
  {
   "cell_type": "code",
   "execution_count": null,
   "id": "7152b26c",
   "metadata": {},
   "outputs": [],
   "source": [
    "data.info()"
   ]
  },
  {
   "cell_type": "code",
   "execution_count": null,
   "id": "9d0b005d",
   "metadata": {},
   "outputs": [],
   "source": [
    "data.shape"
   ]
  },
  {
   "cell_type": "code",
   "execution_count": null,
   "id": "68230c61",
   "metadata": {},
   "outputs": [],
   "source": [
    "data.duplicated().sum()"
   ]
  },
  {
   "cell_type": "code",
   "execution_count": null,
   "id": "4ba11042",
   "metadata": {},
   "outputs": [],
   "source": [
    "data.nunique()"
   ]
  },
  {
   "cell_type": "code",
   "execution_count": null,
   "id": "c0435271",
   "metadata": {},
   "outputs": [],
   "source": [
    "#target count\n",
    "\n",
    "data.RainTomorrow.value_counts()"
   ]
  },
  {
   "cell_type": "code",
   "execution_count": null,
   "id": "deb854e9",
   "metadata": {},
   "outputs": [],
   "source": [
    "#Visualization\n",
    "def plotPerColumnDistribution(df, nGraphShown, nGraphPerRow):\n",
    "    nunique = df.nunique()\n",
    "    df = df[[col for col in df if nunique[col] > 1 and nunique[col] < 50]] # For displaying purposes, pick columns that have between 1 and 50 unique values\n",
    "    nRow, nCol = df.shape\n",
    "    columnNames = list(df)\n",
    "    nGraphRow = (nCol + nGraphPerRow - 1) / nGraphPerRow\n",
    "    plt.figure(num = None, figsize = (6 * nGraphPerRow, 8 * nGraphRow), dpi = 80, facecolor = 'w', edgecolor = 'k')\n",
    "    for i in range(min(nCol, nGraphShown)):\n",
    "        plt.subplot(nGraphRow, nGraphPerRow, i + 1)\n",
    "        columnDf = df.iloc[:, i]\n",
    "        if (not np.issubdtype(type(columnDf.iloc[0]), np.number)):\n",
    "            valueCounts = columnDf.value_counts()\n",
    "            valueCounts.plot.bar()\n",
    "        else:\n",
    "            columnDf.hist()\n",
    "        plt.ylabel('counts')\n",
    "        plt.xticks(rotation = 90)\n",
    "        plt.title(f'{columnNames[i]} (column {i})')\n",
    "    plt.tight_layout(pad = 1.0, w_pad = 1.0, h_pad = 1.0)\n",
    "    plt.show()"
   ]
  },
  {
   "cell_type": "code",
   "execution_count": null,
   "id": "3b4b22cb",
   "metadata": {},
   "outputs": [],
   "source": [
    "plotPerColumnDistribution(data, 10, 5)"
   ]
  },
  {
   "cell_type": "code",
   "execution_count": null,
   "id": "ba740ce3",
   "metadata": {},
   "outputs": [],
   "source": [
    "plt.figure(figsize=(10,5))\n",
    "sns.set_style(\"darkgrid\")\n",
    "plt.title('RainTomorrow value counts')\n",
    "sns.countplot(x=data[\"RainTomorrow\"]);"
   ]
  },
  {
   "cell_type": "code",
   "execution_count": null,
   "id": "de8e0cea",
   "metadata": {},
   "outputs": [],
   "source": [
    "plt.figure(figsize=(14,7))\n",
    "sns.countplot(x=data[\"RainToday\"], hue=data[\"RainTomorrow\"], palette=sns.color_palette(\"husl\")[4:]);\n"
   ]
  },
  {
   "cell_type": "code",
   "execution_count": null,
   "id": "6a347f38",
   "metadata": {},
   "outputs": [],
   "source": [
    "plt.figure(figsize=(17,13))\n",
    "sns.countplot(data=data, y='Location')\n",
    "\n",
    "plt.title('Location distribution')\n",
    "plt.xlabel('')\n",
    "plt.ylabel('')\n",
    "plt.tight_layout()"
   ]
  },
  {
   "cell_type": "code",
   "execution_count": null,
   "id": "a405bbcb",
   "metadata": {},
   "outputs": [],
   "source": [
    "plt.figure(figsize=(17,13))\n",
    "sns.countplot(data=data, y='Location', hue=\"RainToday\", palette=sns.color_palette(\"Set2\"))\n",
    "\n",
    "plt.title('Today Rain count by LOC')\n",
    "plt.xlabel('')\n",
    "plt.ylabel('')\n",
    "plt.tight_layout()"
   ]
  },
  {
   "cell_type": "code",
   "execution_count": null,
   "id": "499d3f27",
   "metadata": {},
   "outputs": [],
   "source": [
    "plt.figure(figsize=(10,11))\n",
    "plt.pie(data[\"WindDir9am\"].value_counts(),\n",
    "        labels=list(data[\"WindDir9am\"].value_counts().index),\n",
    "        autopct='%1.2f%%',\n",
    "        pctdistance=0.8,\n",
    "       );"
   ]
  },
  {
   "cell_type": "code",
   "execution_count": null,
   "id": "9cfe4977",
   "metadata": {},
   "outputs": [],
   "source": [
    "plt.figure(figsize=(10,11))\n",
    "plt.pie(data[\"WindDir3pm\"].value_counts(),\n",
    "        labels=list(data[\"WindDir3pm\"].value_counts().index),\n",
    "        autopct='%1.2f%%',\n",
    "        pctdistance=0.8,\n",
    "       );"
   ]
  },
  {
   "cell_type": "code",
   "execution_count": null,
   "id": "412e592e",
   "metadata": {},
   "outputs": [],
   "source": [
    "data.hist(figsize=(17,13), color=\"m\");"
   ]
  },
  {
   "cell_type": "code",
   "execution_count": null,
   "id": "74bd8a7f",
   "metadata": {},
   "outputs": [],
   "source": [
    "#Preprocessing\n",
    "\n",
    "df_preprocessed = data.copy()"
   ]
  },
  {
   "cell_type": "code",
   "execution_count": null,
   "id": "274538ce",
   "metadata": {},
   "outputs": [],
   "source": [
    "df_preprocessed.isnull().mean() * 100"
   ]
  },
  {
   "cell_type": "code",
   "execution_count": null,
   "id": "2d0fa733",
   "metadata": {},
   "outputs": [],
   "source": [
    "mean = df_preprocessed.mean()\n",
    "df_preprocessed.fillna(mean, inplace=True)\n",
    "\n",
    "df_preprocessed.isna().sum()"
   ]
  },
  {
   "cell_type": "code",
   "execution_count": null,
   "id": "4e06cb7a",
   "metadata": {},
   "outputs": [],
   "source": [
    "df_preprocessed.replace(np.nan, 'NaN', inplace=True)\n",
    "df_preprocessed.isna().sum()"
   ]
  },
  {
   "cell_type": "code",
   "execution_count": null,
   "id": "5b321bd0",
   "metadata": {},
   "outputs": [],
   "source": [
    "df_preprocessed.head()"
   ]
  },
  {
   "cell_type": "code",
   "execution_count": null,
   "id": "a960a574",
   "metadata": {},
   "outputs": [],
   "source": [
    "df_preprocessed['Date'] = pd.to_datetime(df_preprocessed['Date'])"
   ]
  },
  {
   "cell_type": "code",
   "execution_count": null,
   "id": "dbf576e9",
   "metadata": {},
   "outputs": [],
   "source": [
    "#columns segregation\n",
    "date_columns = ['Date']\n",
    "cat_columns = df_preprocessed.select_dtypes(include=['object']).columns\n",
    "num_columns = df_preprocessed.select_dtypes(include=['float64', 'int64']).columns\n",
    "target_col = 'RainTomorrow'"
   ]
  },
  {
   "cell_type": "code",
   "execution_count": null,
   "id": "a749e87e",
   "metadata": {},
   "outputs": [],
   "source": [
    "#Encoding categorical variables\n",
    "df_preprocessed.head()"
   ]
  },
  {
   "cell_type": "code",
   "execution_count": null,
   "id": "0a417087",
   "metadata": {},
   "outputs": [],
   "source": [
    "cat_columns"
   ]
  },
  {
   "cell_type": "code",
   "execution_count": null,
   "id": "38befff2",
   "metadata": {},
   "outputs": [],
   "source": [
    "import numpy as np\n",
    "from sklearn.impute import SimpleImputer\n",
    "imp_mode=SimpleImputer(missing_values=np.nan,strategy='most_frequent')"
   ]
  },
  {
   "cell_type": "code",
   "execution_count": null,
   "id": "7f218328",
   "metadata": {},
   "outputs": [],
   "source": [
    "data_cat = data[['Location','RainToday','WindGustDir','WindDir9am','WindDir3pm','RainTomorrow']]"
   ]
  },
  {
   "cell_type": "code",
   "execution_count": null,
   "id": "a6c56844",
   "metadata": {},
   "outputs": [],
   "source": [
    "#Fitting and Transforming the missing data\n",
    "data_cat = imp_mode.fit_transform(data_cat)"
   ]
  },
  {
   "cell_type": "code",
   "execution_count": null,
   "id": "2da29b9f",
   "metadata": {},
   "outputs": [],
   "source": [
    "for i in cat_columns:\n",
    "    print('Unique Values in ' + i + ' Column:', end = \" \")\n",
    "    print(len(df_preprocessed[i].unique()))\n",
    "    print('-----------------------------------------------------')"
   ]
  },
  {
   "cell_type": "code",
   "execution_count": null,
   "id": "511dbbd2",
   "metadata": {},
   "outputs": [],
   "source": [
    "from sklearn.preprocessing import LabelEncoder\n",
    "le = LabelEncoder()\n",
    "for i in ['Location','WindGustDir','WindDir9am','WindDir3pm']:\n",
    "    df_preprocessed[i] = le.fit_transform(df_preprocessed[i])\n",
    "df_preprocessed.head()"
   ]
  },
  {
   "cell_type": "code",
   "execution_count": null,
   "id": "633b1ee7",
   "metadata": {},
   "outputs": [],
   "source": [
    "df_preprocessed[['RainToday']].value_counts()"
   ]
  },
  {
   "cell_type": "code",
   "execution_count": null,
   "id": "94a8e5d8",
   "metadata": {},
   "outputs": [],
   "source": [
    "df_preprocessed[['RainTomorrow']].value_counts()"
   ]
  },
  {
   "cell_type": "code",
   "execution_count": null,
   "id": "08a59715",
   "metadata": {},
   "outputs": [],
   "source": [
    "df_preprocessed[['RainToday','RainTomorrow']].isna().sum()"
   ]
  },
  {
   "cell_type": "code",
   "execution_count": null,
   "id": "126812c5",
   "metadata": {},
   "outputs": [],
   "source": [
    "dataframe = df_preprocessed[(df_preprocessed != \"NaN\").all(axis=1)]\n",
    "del df_preprocessed"
   ]
  },
  {
   "cell_type": "code",
   "execution_count": null,
   "id": "28f9113b",
   "metadata": {},
   "outputs": [],
   "source": [
    "dataframe['RainToday'].value_counts()"
   ]
  },
  {
   "cell_type": "code",
   "execution_count": null,
   "id": "2d40bca7",
   "metadata": {},
   "outputs": [],
   "source": [
    "label_dict = {'No': 0,'Yes':1}\n",
    "dataframe['RainTomorrow'] = dataframe['RainTomorrow'].map(label_dict)\n",
    "dataframe['RainToday'] = dataframe['RainToday'].map(label_dict)"
   ]
  },
  {
   "cell_type": "code",
   "execution_count": null,
   "id": "9cfca483",
   "metadata": {},
   "outputs": [],
   "source": [
    "dataframe.head()\n"
   ]
  },
  {
   "cell_type": "code",
   "execution_count": null,
   "id": "1bdbe8f2",
   "metadata": {},
   "outputs": [],
   "source": [
    "# removing Date,Evoporation,Sunshine,Cloud9am,Cloud3pm\n",
    "dataframe.drop(['Date','Evaporation','Sunshine','Cloud9am','Cloud3pm'], axis=1, inplace=True)"
   ]
  },
  {
   "cell_type": "code",
   "execution_count": null,
   "id": "3b3896fc",
   "metadata": {},
   "outputs": [],
   "source": [
    "dataframe.reset_index(drop=True, inplace=True)"
   ]
  },
  {
   "cell_type": "code",
   "execution_count": null,
   "id": "0189feeb",
   "metadata": {},
   "outputs": [],
   "source": [
    "#train test split\n",
    "\n",
    "from sklearn.model_selection import train_test_split\n",
    "\n",
    "X = dataframe.drop(columns=[\"RainTomorrow\"])\n",
    "y = dataframe[\"RainTomorrow\"]\n",
    "\n",
    "X_train, X_test, y_train, y_test = train_test_split(X, y, test_size=0.3, random_state=42)"
   ]
  },
  {
   "cell_type": "code",
   "execution_count": null,
   "id": "da36edf9",
   "metadata": {},
   "outputs": [],
   "source": [
    "X.head()"
   ]
  },
  {
   "cell_type": "code",
   "execution_count": null,
   "id": "758c9dc7",
   "metadata": {},
   "outputs": [],
   "source": [
    "y.head()"
   ]
  },
  {
   "cell_type": "code",
   "execution_count": null,
   "id": "ecb6c2b1",
   "metadata": {},
   "outputs": [],
   "source": [
    "#Feature Scaling\n",
    "from sklearn.preprocessing import MinMaxScaler\n",
    "\n",
    "scaler = MinMaxScaler()\n",
    "X_train_scaled = scaler.fit_transform(X_train)\n",
    "X_test_scaled = scaler.transform(X_test)"
   ]
  },
  {
   "cell_type": "code",
   "execution_count": null,
   "id": "cd58a73b",
   "metadata": {},
   "outputs": [],
   "source": [
    "X_train_scaled.shape"
   ]
  },
  {
   "cell_type": "code",
   "execution_count": null,
   "id": "c3eaeeda",
   "metadata": {},
   "outputs": [],
   "source": [
    "X_train_scaled[0,:]"
   ]
  },
  {
   "cell_type": "code",
   "execution_count": null,
   "id": "456c155c",
   "metadata": {},
   "outputs": [],
   "source": [
    "#Feature Selection\n",
    "from sklearn.feature_selection import SelectKBest\n",
    "\n",
    "fs = SelectKBest(k=10)\n",
    "X_train_scaled = fs.fit_transform(X_train_scaled, y_train)\n",
    "X_test_scaled = fs.transform(X_test_scaled)"
   ]
  },
  {
   "cell_type": "code",
   "execution_count": null,
   "id": "4354356c",
   "metadata": {},
   "outputs": [],
   "source": [
    "#Training and testing the model\n",
    "from sklearn.ensemble import RandomForestClassifier\n"
   ]
  },
  {
   "cell_type": "code",
   "execution_count": null,
   "id": "11af0698",
   "metadata": {},
   "outputs": [],
   "source": [
    "from sklearn.svm import SVC"
   ]
  },
  {
   "cell_type": "code",
   "execution_count": null,
   "id": "beca2843",
   "metadata": {},
   "outputs": [],
   "source": [
    "from sklearn.tree import DecisionTreeClassifier"
   ]
  },
  {
   "cell_type": "code",
   "execution_count": null,
   "id": "b4fb802a",
   "metadata": {},
   "outputs": [],
   "source": [
    "from sklearn.ensemble import GradientBoostingClassifier"
   ]
  },
  {
   "cell_type": "code",
   "execution_count": null,
   "id": "4473c87b",
   "metadata": {},
   "outputs": [],
   "source": [
    "from sklearn.linear_model import LogisticRegression"
   ]
  },
  {
   "cell_type": "code",
   "execution_count": null,
   "id": "d964a65b",
   "metadata": {},
   "outputs": [],
   "source": [
    "#Models initialization of the models\n",
    "XGBoost = xgboost.XGBRFClassifier()\n",
    "Rand_forest = RandomForestClassifier()\n",
    "svm = SVC()\n",
    "Dtree = DecisionTreeClassifier()\n",
    "GBM = GradientBoostingClassifier()\n",
    "log = LogisticRegression()"
   ]
  },
  {
   "cell_type": "code",
   "execution_count": null,
   "id": "b7d67e22",
   "metadata": {},
   "outputs": [],
   "source": [
    "#Fitting the model\n",
    "rand_mod = Rand_forest.fit(X_train_scaled,y_train)"
   ]
  },
  {
   "cell_type": "code",
   "execution_count": null,
   "id": "cf769440",
   "metadata": {},
   "outputs": [],
   "source": [
    "#Predicting the Train values\n",
    "p1 = Rand_forest.predict(X_train_scaled)"
   ]
  },
  {
   "cell_type": "code",
   "execution_count": null,
   "id": "12e44cbd",
   "metadata": {},
   "outputs": [],
   "source": [
    "#Model Evaluation\n",
    "#1.Accuracy\n",
    "t1 = Rand_forest.predict(X_test_scaled)"
   ]
  },
  {
   "cell_type": "code",
   "execution_count": null,
   "id": "49e0f986",
   "metadata": {},
   "outputs": [],
   "source": [
    "print(\"Rand_forest:\",metrics.accuracy_score(y_test,t1))"
   ]
  },
  {
   "cell_type": "code",
   "execution_count": null,
   "id": "4992541c",
   "metadata": {},
   "outputs": [],
   "source": [
    "#2.Confusion Matrix\n",
    "#Random forest Confusion matrix\n",
    "conf_matrix = metrics.confusion_matrix(y_test,t1)"
   ]
  },
  {
   "cell_type": "code",
   "execution_count": null,
   "id": "9b7be594",
   "metadata": {},
   "outputs": [],
   "source": [
    "fig,ax = plt.subplots(figsize=(7.5,7.5))\n",
    "ax.matshow(conf_matrix,alpha=0.3)\n",
    "for i in range(conf_matrix.shape[0]):\n",
    "  for j in range(conf_matrix.shape[1]):\n",
    "    ax.text(x=j, y=i, s=conf_matrix[i,j], va ='center', ha='center',size='xx-large')\n",
    "plt.xlabel('Predictions',fontsize=18)\n",
    "plt.ylabel('Actuals',fontsize=18)\n",
    "plt.title('Confusion Matrix',fontsize=18)\n",
    "plt.show()\n"
   ]
  },
  {
   "cell_type": "code",
   "execution_count": null,
   "id": "ee22f1e2",
   "metadata": {},
   "outputs": [],
   "source": [
    "from sklearn.metrics import accuracy_score\n",
    "from sklearn.metrics import precision_score\n",
    "from sklearn.metrics import recall_score\n",
    "from sklearn.metrics import f1_score"
   ]
  },
  {
   "cell_type": "code",
   "execution_count": null,
   "id": "f644d8db",
   "metadata": {},
   "outputs": [],
   "source": [
    "print(conf_matrix)\n",
    "print(\"Accuracy:\",accuracy_score(y_test,t1))\n",
    "print(\"Precision:\",precision_score(y_test,t1))\n",
    "print(\"Recall:\",recall_score(y_test,t1))\n",
    "print(\"F1-score:\",f1_score(y_test,t1))"
   ]
  },
  {
   "cell_type": "code",
   "execution_count": null,
   "id": "62dfcb70",
   "metadata": {},
   "outputs": [],
   "source": [
    "#3.ROC AUC SCORE\n",
    "auc = metrics.roc_auc_score(y_test,t1)\n",
    "\n",
    "fpr,tpr,thresholds = metrics.roc_curve(y_test,t1)\n",
    "\n",
    "plt.figure(figsize = (12,10),dpi=80)\n",
    "plt.axis('scaled')\n",
    "plt.xlim([0,1])\n",
    "plt.ylim([0,1])\n",
    "plt.title(\"AUC & ROC Curve\")\n",
    "plt.plot(fpr,tpr,'v')\n",
    "plt.fill_between(fpr,tpr,facecolor = 'blue',alpha=0.8)\n",
    "plt.text(1,0.05, 'AUC =%0.4f' % auc, ha='right', fontsize =10, weight ='bold' , color = 'black')\n",
    "plt.xlabel(\"False Positive Rate\")\n",
    "plt.ylabel(\"True Positive Rate\")\n",
    "plt.show()\n",
    "\n"
   ]
  },
  {
   "cell_type": "code",
   "execution_count": null,
   "id": "8d09a4c2",
   "metadata": {},
   "outputs": [],
   "source": [
    "!pip install ibm_watson_machine_learning"
   ]
  },
  {
   "cell_type": "code",
   "execution_count": null,
   "id": "a28e9d00",
   "metadata": {},
   "outputs": [],
   "source": [
    "from ibm_watson_machine_learning import APIClient\n",
    "wml_credentials = {\n",
    "    \"url\": \"https://us-south.ml.cloud.ibm.com\",\n",
    "    \"apikey\" : \"PQBr9MBF7mFuSh2VVLfOE-liIA04VH-h5VEk8EfjFIuw\"\n",
    "}\n",
    "\n",
    "client = APIClient(wml_credentials)"
   ]
  },
  {
   "cell_type": "code",
   "execution_count": null,
   "id": "58a56c90",
   "metadata": {},
   "outputs": [],
   "source": [
    "\n",
    "def guid_from_space_name(client,space_name):\n",
    "    space = client.spaces.get_details()\n",
    "    #print(space)\n",
    "    return(next(item for item in space['resources'] if item['entity'][\"name\"] == space_name)['metadata']['id'])"
   ]
  },
  {
   "cell_type": "code",
   "execution_count": null,
   "id": "c25de251",
   "metadata": {},
   "outputs": [],
   "source": [
    "space_uid = guid_from_space_name(client,'models')\n",
    "print(\"Space UID = \" + space_uid)"
   ]
  },
  {
   "cell_type": "code",
   "execution_count": null,
   "id": "7b547d1c",
   "metadata": {},
   "outputs": [],
   "source": [
    "client.set.default_space(space_uid)"
   ]
  },
  {
   "cell_type": "code",
   "execution_count": null,
   "id": "7f70456f",
   "metadata": {},
   "outputs": [],
   "source": [
    "client.software_specifications.list()"
   ]
  },
  {
   "cell_type": "code",
   "execution_count": null,
   "id": "6c26dd4c",
   "metadata": {},
   "outputs": [],
   "source": [
    "software_spec_uid = client.software_specifications.get_uid_by_name(\"runtime-22.1-py3.9\")\n",
    "software_spec_uid"
   ]
  },
  {
   "cell_type": "code",
   "execution_count": null,
   "id": "6a72882f",
   "metadata": {},
   "outputs": [],
   "source": [
    "model_details = client.repository.store_model(model = rand_mod, meta_props = {\n",
    "    client.repository.ModelMetaNames.NAME:\"rainfall\",\n",
    "    client.repository.ModelMetaNames.TYPE:\"scikit-learn_1.0\",\n",
    "    client.repository.ModelMetaNames.SOFTWARE_SPEC_UID : software_spec_uid\n",
    "})\n",
    "model_id = client.repository.get_model_id(model_details)"
   ]
  },
  {
   "cell_type": "code",
   "execution_count": null,
   "id": "d1c2c514",
   "metadata": {},
   "outputs": [],
   "source": [
    "model_id"
   ]
  },
  {
   "cell_type": "code",
   "execution_count": null,
   "id": "ffb2fa17",
   "metadata": {},
   "outputs": [],
   "source": [
    "X_train_scaled[0]"
   ]
  },
  {
   "cell_type": "code",
   "execution_count": null,
   "id": "5ea4e218",
   "metadata": {},
   "outputs": [],
   "source": [
    "rand_mod.predict([[5.19157088e-01, 5.39083558e-04, 3.25581395e-01, 1.53846154e-02,\n",
    "       6.96969697e-01, 6.80000000e-01, 3.20338983e-01, 3.19218241e-01,\n",
    "       5.19305019e-01, 0.00000000e+00]])"
   ]
  },
  {
   "cell_type": "code",
   "execution_count": null,
   "id": "112649f6",
   "metadata": {},
   "outputs": [],
   "source": []
  },
  {
   "cell_type": "code",
   "execution_count": null,
   "id": "2ad37987",
   "metadata": {},
   "outputs": [],
   "source": []
  },
  {
   "cell_type": "code",
   "execution_count": null,
   "id": "dd15dbe8",
   "metadata": {},
   "outputs": [],
   "source": []
  }
 ],
 "metadata": {
  "kernelspec": {
   "display_name": "Python 3 (ipykernel)",
   "language": "python",
   "name": "python3"
  },
  "language_info": {
   "codemirror_mode": {
    "name": "ipython",
    "version": 3
   },
   "file_extension": ".py",
   "mimetype": "text/x-python",
   "name": "python",
   "nbconvert_exporter": "python",
   "pygments_lexer": "ipython3",
   "version": "3.9.7"
  }
 },
 "nbformat": 4,
 "nbformat_minor": 5
}
